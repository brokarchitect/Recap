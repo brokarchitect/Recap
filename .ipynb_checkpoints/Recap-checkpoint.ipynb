{
 "cells": [
  {
   "cell_type": "code",
   "execution_count": 8,
   "metadata": {},
   "outputs": [
    {
     "data": {
      "text/plain": [
       "list"
      ]
     },
     "execution_count": 8,
     "metadata": {},
     "output_type": "execute_result"
    }
   ],
   "source": [
    "#Working with Dictionaries - Lab\n",
    "#Class assignment on Dictionaries - Cities \n",
    "\n",
    "cities = [{'City': 'Solta', 'Country': 'Croatia', 'Population': 1700, 'Area': 59},\n",
    " {'City': 'Greenville', 'Country': 'USA', 'Population': 84554, 'Area': 68},\n",
    " {'City': 'Buenos Aires',\n",
    "  'Country': 'Argentina',\n",
    "  'Population': 13591863,\n",
    "  'Area': 4758},\n",
    " {'City': 'Los Cabos',\n",
    "  'Country': 'Mexico',\n",
    "  'Population': 287651,\n",
    "  'Area': 3750},\n",
    " {'City': 'Walla Walla Valley',\n",
    "  'Country': 'USA',\n",
    "  'Population': 32237,\n",
    "  'Area': 33},\n",
    " {'City': 'Marakesh', 'Country': 'Morocco', 'Population': 928850, 'Area': 200},\n",
    " {'City': 'Albuquerque',\n",
    "  'Country': 'New Mexico',\n",
    "  'Population': 559277,\n",
    "  'Area': 491},\n",
    " {'City': 'Archipelago Sea',\n",
    "  'Country': 'Finland',\n",
    "  'Population': 60000,\n",
    "  'Area': 8300},\n",
    " {'City': 'Iguazu Falls',\n",
    "  'Country': 'Argentina',\n",
    "  'Population': 0,\n",
    "  'Area': 672},\n",
    " {'City': 'Salina Island', 'Country': 'Italy', 'Population': 4000, 'Area': 27},\n",
    " {'City': 'Toronto', 'Country': 'Canada', 'Population': 630, 'Area': 2731571},\n",
    " {'City': 'Pyeongchang',\n",
    "  'Country': 'South Korea',\n",
    "  'Population': 2581000,\n",
    "  'Area': 3194}]\n",
    "\n",
    "type(cities)"
   ]
  },
  {
   "cell_type": "code",
   "execution_count": 16,
   "metadata": {},
   "outputs": [
    {
     "name": "stdout",
     "output_type": "stream",
     "text": [
      "{'City': 'Salina Island', 'Country': 'Italy', 'Population': 4000, 'Area': 27}\n",
      "{'City': 'Salina Island', 'Country': 'Italy', 'Population': 4000, 'Area': 27}\n"
     ]
    }
   ],
   "source": [
    "#1:accessing the 3rd to last element then, setting it equal to variable 'salina'\n",
    "\n",
    "cities[-3] #accessing with index\n",
    "print(cities[-3])\n",
    "salina = cities[-3] #allocation of variabe salina \n",
    "print(salina)"
   ]
  },
  {
   "cell_type": "code",
   "execution_count": 27,
   "metadata": {},
   "outputs": [
    {
     "name": "stdout",
     "output_type": "stream",
     "text": [
      "{'City': 'Los Cabos', 'Country': 'Mexico', 'Population': 287651, 'Area': 3750}\n",
      "287651\n"
     ]
    }
   ],
   "source": [
    "#2: Access the 4th city in the list and set its pop. equal to variable los_cabos_pop\n",
    "\n",
    "print(cities[3])\n",
    "\n",
    "type(cities[3]) #output <dict> type\n",
    "\n",
    "my_dict = cities[3]\n",
    "my_dict['Population']\n",
    "los_cabos_pop = my_dict['Population']\n",
    "print(los_cabos_pop)\n"
   ]
  },
  {
   "cell_type": "code",
   "execution_count": 30,
   "metadata": {},
   "outputs": [
    {
     "name": "stdout",
     "output_type": "stream",
     "text": [
      "12\n"
     ]
    }
   ],
   "source": [
    "#3: calculate the number of cities in the list and assign the number to variable city_count\n",
    "\n",
    "len(cities) #output is <12>\n",
    "city_count = len(cities)  #Introducing and assignment of variable city_count\n",
    "print(city_count)\n"
   ]
  },
  {
   "cell_type": "code",
   "execution_count": 33,
   "metadata": {},
   "outputs": [
    {
     "name": "stdout",
     "output_type": "stream",
     "text": [
      "PyeongChang\n"
     ]
    }
   ],
   "source": [
    "#Finally, change the spelling of the South Korean city, Pyeongchang, to the string 'PyeongChang', its alternative spelling\n",
    "\n",
    "cities[11]['City'] = 'PyeongChang'\n",
    "print(cities[11]['City'])"
   ]
  },
  {
   "cell_type": "code",
   "execution_count": 66,
   "metadata": {},
   "outputs": [
    {
     "data": {
      "text/plain": [
       "['PyeongChang', 'South Korea', 2581000, 3194]"
      ]
     },
     "execution_count": 66,
     "metadata": {},
     "output_type": "execute_result"
    }
   ],
   "source": [
    "#Use the appropriate dictionary method to return a list of values in the dictionary regarding Pyeongchang.\n",
    "#Assign the list to the variable pyeongchang_values\n",
    "\n",
    "cities[11]\n",
    "pyeongchang_city = cities[11]\n",
    "\n",
    "#getting list of values\n",
    "list(pyeongchang.values())\n",
    "\n",
    "pyeongchang_values = list(pyeongchang.values())\n",
    "pyeongchang_values"
   ]
  },
  {
   "cell_type": "code",
   "execution_count": 68,
   "metadata": {},
   "outputs": [
    {
     "name": "stdout",
     "output_type": "stream",
     "text": [
      "['City', 'Country', 'Population', 'Area']\n"
     ]
    }
   ],
   "source": [
    "#And now set pyeongchang_keys equal to a list of keys in the dictionary regarding Pyeongchang\n",
    "\n",
    "list(pyeongchang.keys())\n",
    "pyeongchang_keys = list(pyeongchang.keys())\n",
    "print(pyeongchang_keys)"
   ]
  }
 ],
 "metadata": {
  "kernelspec": {
   "display_name": "Python (learn-env)",
   "language": "python",
   "name": "learn-env"
  },
  "language_info": {
   "codemirror_mode": {
    "name": "ipython",
    "version": 3
   },
   "file_extension": ".py",
   "mimetype": "text/x-python",
   "name": "python",
   "nbconvert_exporter": "python",
   "pygments_lexer": "ipython3",
   "version": "3.8.5"
  }
 },
 "nbformat": 4,
 "nbformat_minor": 4
}
